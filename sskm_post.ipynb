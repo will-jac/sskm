{
 "metadata": {
  "language_info": {
   "codemirror_mode": {
    "name": "ipython",
    "version": 3
   },
   "file_extension": ".py",
   "mimetype": "text/x-python",
   "name": "python",
   "nbconvert_exporter": "python",
   "pygments_lexer": "ipython3",
   "version": 3
  },
  "orig_nbformat": 2
 },
 "nbformat": 4,
 "nbformat_minor": 2,
 "cells": [
  {
   "cell_type": "code",
   "execution_count": null,
   "metadata": {},
   "outputs": [],
   "source": [
    "dirname = 'results'\n",
    "filebase = 'image_basic_hidden_75_30_10_5_K_2_newdim_T_r_u_e_Csize_3_3_3_3_3_Cfilters_80_70_60_50_40_30_Pool_2_1_2_1_2_1_drop_0.50_L2_0.000010_ntrain_04_rot_*.pkl'\n",
    "results = read_all_rotations(dirname, filebase)\n",
    "\n",
    "print(results)"
   ]
  }
 ]
}